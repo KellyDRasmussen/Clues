{
 "cells": [
  {
   "cell_type": "markdown",
   "id": "1ce996b6-e827-4523-a340-39f966497c5f",
   "metadata": {},
   "source": [
    "# Krypto Kampagne"
   ]
  },
  {
   "cell_type": "markdown",
   "id": "f019deb5-4466-41b3-81cc-b6eb8fa9e079",
   "metadata": {},
   "source": [
    "This time last year, there was a social media challenge to decrypt a bunch of clues as part of \n",
    "a promotion for open positions at FE\n",
    "\n",
    "I got stuck in and used ChatGPT to bring me up to speed on things like What is a SHA256 hash, what is a nonce. \n",
    "\n",
    "I found someone else who was stuck on LinkedIn and with his Python skills and my ... desire to solve the puzzle, we got there together. We must have pored over every detail in the campaign but we didn't know HOW it was encrypted. Eventually, we both clicked at the same time and realised it was weird that they had employees talking about how much they loved their Salsa class that some people had attended for 20 years. \n",
    "\n",
    "He coded it himself, I asked ChatGPT but it just wouldn't work whatever I did.\n",
    "\n",
    "This year, I wanted to see if the new ChatGPT model could make a dent. I still had all the clues in my github, so my prompt was:\n",
    "\n",
    "\"help me decrypt something\n",
    "It's salsa 20\n",
    "the cypher is: d7a7e396df976cf6c59adce5d1381ea020a35af126efd0d5d380e4ccb74758e0f05e86a0bed61ac75d5a1dfd029c8792ced99c5abf33354505e288f0b9bda280c9099506be3c3ee818b5e405e1fbf45903708cd067cafa34aa5f5b88958ae6603b4a427ab2\n",
    "the SHA256 hash of key: 7980a97a11e2b99636133b9baf922de286d3cf893843537f255ab0af56982985\n",
    "the nonce is zero\"\n",
    "\n",
    "and then I needed an extra prompt of\n",
    "\n",
    "\"you don't need the key, just use the hash\"\n",
    "\n",
    "and boooooom: here it is, no python required: "
   ]
  },
  {
   "cell_type": "code",
   "execution_count": 1,
   "id": "1ed23eba-b8d7-4f3c-bbe8-a8d07eafc37a",
   "metadata": {},
   "outputs": [
    {
     "name": "stdout",
     "output_type": "stream",
     "text": [
      "Collecting pycryptodome\n",
      "  Using cached pycryptodome-3.20.0-cp35-abi3-macosx_10_9_x86_64.whl.metadata (3.4 kB)\n",
      "Using cached pycryptodome-3.20.0-cp35-abi3-macosx_10_9_x86_64.whl (1.6 MB)\n",
      "Installing collected packages: pycryptodome\n",
      "Successfully installed pycryptodome-3.20.0\n",
      "Note: you may need to restart the kernel to use updated packages.\n"
     ]
    }
   ],
   "source": [
    "pip install pycryptodome\n"
   ]
  },
  {
   "cell_type": "code",
   "execution_count": 9,
   "id": "bf984688-0f5e-4b88-8c07-f613cb0f591a",
   "metadata": {},
   "outputs": [
    {
     "name": "stdout",
     "output_type": "stream",
     "text": [
      "Decrypted message: Godt klaret! Hvis du har mod på mere, så send os en ansøgning. Vi glæder os til at høre fra dig.\n"
     ]
    }
   ],
   "source": [
    "from Crypto.Cipher import Salsa20\n",
    "from Crypto.Hash import SHA256\n",
    "\n",
    "# Provided data\n",
    "ciphertext = bytes.fromhex(\"d7a7e396df976cf6c59adce5d1381ea020a35af126efd0d5d380e4ccb74758e0f05e86a0bed61ac75d5a1dfd029c8792ced99c5abf33354505e288f0b9bda280c9099506be3c3ee818b5e405e1fbf45903708cd067cafa34aa5f5b88958ae6603b4a427ab2\")\n",
    "key_hash = bytes.fromhex(\"7980a97a11e2b99636133b9baf922de286d3cf893843537f255ab0af56982985\")\n",
    "nonce = bytes([0] * 8)  # nonce is zero\n",
    "\n",
    "# Create the Salsa20 cipher object using the hash as the key\n",
    "cipher = Salsa20.new(key=key_hash, nonce=nonce)\n",
    "\n",
    "# Decrypt the ciphertext\n",
    "plaintext = cipher.decrypt(ciphertext)\n",
    "\n",
    "# Output the plaintext\n",
    "print(\"Decrypted message:\", plaintext.decode())\n"
   ]
  },
  {
   "cell_type": "markdown",
   "id": "229abcb8-926c-41a9-876e-69ec1c8b6d81",
   "metadata": {},
   "source": [
    "Here's their official solution: https://www.fe-ddis.dk/globalassets/fe/dokumenter/2024/andet/-write-up-kryptokampagne-2023-.pdf"
   ]
  }
 ],
 "metadata": {
  "kernelspec": {
   "display_name": "Python 3 (ipykernel)",
   "language": "python",
   "name": "python3"
  },
  "language_info": {
   "codemirror_mode": {
    "name": "ipython",
    "version": 3
   },
   "file_extension": ".py",
   "mimetype": "text/x-python",
   "name": "python",
   "nbconvert_exporter": "python",
   "pygments_lexer": "ipython3",
   "version": "3.11.7"
  }
 },
 "nbformat": 4,
 "nbformat_minor": 5
}
